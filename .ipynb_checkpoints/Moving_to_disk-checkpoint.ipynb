{
 "cells": [
  {
   "cell_type": "code",
   "execution_count": 1,
   "metadata": {
    "colab": {
     "base_uri": "https://localhost:8080/"
    },
    "executionInfo": {
     "elapsed": 30565,
     "status": "ok",
     "timestamp": 1613352093074,
     "user": {
      "displayName": "Javid Akhavan",
      "photoUrl": "",
      "userId": "10308335064462853553"
     },
     "user_tz": 300
    },
    "id": "Cno7yx834OhI",
    "outputId": "f0e6843e-baff-4b91-8179-459f4d9f7f5f"
   },
   "outputs": [
    {
     "ename": "ModuleNotFoundError",
     "evalue": "No module named 'numpy'",
     "output_type": "error",
     "traceback": [
      "\u001b[1;31m---------------------------------------------------------------------------\u001b[0m",
      "\u001b[1;31mModuleNotFoundError\u001b[0m                       Traceback (most recent call last)",
      "\u001b[1;32m<ipython-input-1-935001ccb78e>\u001b[0m in \u001b[0;36m<module>\u001b[1;34m\u001b[0m\n\u001b[0;32m      1\u001b[0m \u001b[1;31m#import pandas as pd\u001b[0m\u001b[1;33m\u001b[0m\u001b[1;33m\u001b[0m\u001b[1;33m\u001b[0m\u001b[0m\n\u001b[1;32m----> 2\u001b[1;33m \u001b[1;32mimport\u001b[0m \u001b[0mnumpy\u001b[0m \u001b[1;32mas\u001b[0m \u001b[0mnp\u001b[0m\u001b[1;33m\u001b[0m\u001b[1;33m\u001b[0m\u001b[0m\n\u001b[0m\u001b[0;32m      3\u001b[0m \u001b[1;32mimport\u001b[0m \u001b[0mos\u001b[0m\u001b[1;33m\u001b[0m\u001b[1;33m\u001b[0m\u001b[0m\n\u001b[0;32m      4\u001b[0m \u001b[1;32mimport\u001b[0m \u001b[0mtensorflow\u001b[0m \u001b[1;32mas\u001b[0m \u001b[0mtf\u001b[0m\u001b[1;33m\u001b[0m\u001b[1;33m\u001b[0m\u001b[0m\n\u001b[0;32m      5\u001b[0m \u001b[1;32mimport\u001b[0m \u001b[0mcv2\u001b[0m\u001b[1;33m\u001b[0m\u001b[1;33m\u001b[0m\u001b[0m\n",
      "\u001b[1;31mModuleNotFoundError\u001b[0m: No module named 'numpy'"
     ]
    }
   ],
   "source": [
    "#import pandas as pd\n",
    "import numpy as np\n",
    "import os\n",
    "import tensorflow as tf\n",
    "import cv2\n",
    "from tensorflow import keras\n",
    "from  matplotlib import pyplot as plt\n",
    "import matplotlib.image as mpimg\n",
    "\n",
    "import keras as k\n",
    "from matplotlib import pyplot\n",
    "from keras.preprocessing.image import ImageDataGenerator\n",
    "from google.colab import drive\n",
    "drive.mount('/content/drive')"
   ]
  },
  {
   "cell_type": "code",
   "execution_count": null,
   "metadata": {
    "colab": {
     "base_uri": "https://localhost:8080/"
    },
    "executionInfo": {
     "elapsed": 781,
     "status": "ok",
     "timestamp": 1613352138483,
     "user": {
      "displayName": "Javid Akhavan",
      "photoUrl": "",
      "userId": "10308335064462853553"
     },
     "user_tz": 300
    },
    "id": "lFJtP5tcw-0E",
    "outputId": "f5d478bd-ba49-45b6-b997-fdf8e73ecf44"
   },
   "outputs": [
    {
     "name": "stdout",
     "output_type": "stream",
     "text": [
      "/content/drive/MyDrive/CNN_image_3/Paper_data/labeled\n",
      "/content/drive/MyDrive/CNN_image_3/Paper_data/labeled\n"
     ]
    }
   ],
   "source": [
    "%cd 'C:\\Users\\Dalli\\Desktop\\jiaqi\\Test_data_labeled\\labeled'\n",
    "!pwd"
   ]
  },
  {
   "cell_type": "code",
   "execution_count": null,
   "metadata": {
    "id": "bOY7oWKxYPGI"
   },
   "outputs": [],
   "source": [
    "import time\n",
    "\n",
    "def TicTocGenerator():\n",
    "    # Generator that returns time differences\n",
    "    ti = 0           # initial time\n",
    "    tf = time.time() # final time\n",
    "    while True:\n",
    "        ti = tf\n",
    "        tf = time.time()\n",
    "        yield tf-ti # returns the time difference\n",
    "\n",
    "TicToc = TicTocGenerator() # create an instance of the TicTocGen generator\n",
    "\n",
    "# This will be the main function through which we define both tic() and toc()\n",
    "def toc(tempBool=True):\n",
    "    # Prints the time difference yielded by generator instance TicToc\n",
    "    tempTimeInterval = next(TicToc)\n",
    "    if tempBool:\n",
    "        print( \"Elapsed time: %f seconds.\\n\" %tempTimeInterval )\n",
    "\n",
    "def tic():\n",
    "    # Records a time in TicToc, marks the beginning of a time interval\n",
    "    toc(False)"
   ]
  },
  {
   "cell_type": "code",
   "execution_count": null,
   "metadata": {
    "colab": {
     "base_uri": "https://localhost:8080/",
     "height": 680
    },
    "executionInfo": {
     "elapsed": 1500200,
     "status": "error",
     "timestamp": 1613353642054,
     "user": {
      "displayName": "Javid Akhavan",
      "photoUrl": "",
      "userId": "10308335064462853553"
     },
     "user_tz": 300
    },
    "id": "0SGvIAO84Qp_",
    "outputId": "f59c418f-a4b7-4937-80d4-b75646c34870"
   },
   "outputs": [
    {
     "name": "stdout",
     "output_type": "stream",
     "text": [
      "0\n",
      "100\n",
      "200\n",
      "300\n",
      "400\n",
      "500\n",
      "600\n",
      "700\n",
      "800\n",
      "900\n",
      "1000\n",
      "1100\n",
      "1200\n",
      "1300\n",
      "1400\n",
      "1500\n",
      "1600\n",
      "1700\n",
      "1800\n",
      "1900\n",
      "2000\n"
     ]
    },
    {
     "ename": "KeyboardInterrupt",
     "evalue": "ignored",
     "output_type": "error",
     "traceback": [
      "\u001b[0;31m---------------------------------------------------------------------------\u001b[0m",
      "\u001b[0;31mKeyboardInterrupt\u001b[0m                         Traceback (most recent call last)",
      "\u001b[0;32m<ipython-input-4-62593c15759d>\u001b[0m in \u001b[0;36m<module>\u001b[0;34m()\u001b[0m\n\u001b[1;32m     31\u001b[0m \u001b[0;31m# extract the image array and class name\u001b[0m\u001b[0;34m\u001b[0m\u001b[0;34m\u001b[0m\u001b[0;34m\u001b[0m\u001b[0m\n\u001b[1;32m     32\u001b[0m \u001b[0mimg_folder\u001b[0m\u001b[0;34m=\u001b[0m\u001b[0;34mr'/content/drive/MyDrive/CNN_image_3/Paper_data/labeled'\u001b[0m\u001b[0;34m\u001b[0m\u001b[0;34m\u001b[0m\u001b[0m\n\u001b[0;32m---> 33\u001b[0;31m \u001b[0mimg_data\u001b[0m\u001b[0;34m,\u001b[0m \u001b[0mclass_name\u001b[0m \u001b[0;34m=\u001b[0m\u001b[0mcreate_dataset\u001b[0m\u001b[0;34m(\u001b[0m\u001b[0mimg_folder\u001b[0m\u001b[0;34m)\u001b[0m\u001b[0;34m\u001b[0m\u001b[0;34m\u001b[0m\u001b[0m\n\u001b[0m\u001b[1;32m     34\u001b[0m \u001b[0mtoc\u001b[0m\u001b[0;34m(\u001b[0m\u001b[0;34m)\u001b[0m\u001b[0;34m\u001b[0m\u001b[0;34m\u001b[0m\u001b[0m\n",
      "\u001b[0;32m<ipython-input-4-62593c15759d>\u001b[0m in \u001b[0;36mcreate_dataset\u001b[0;34m(img_folder, IMG_HEIGHT, IMG_WIDTH)\u001b[0m\n\u001b[1;32m     20\u001b[0m             \u001b[0mi\u001b[0m \u001b[0;34m=\u001b[0m \u001b[0mi\u001b[0m\u001b[0;34m+\u001b[0m\u001b[0;36m1\u001b[0m\u001b[0;34m\u001b[0m\u001b[0;34m\u001b[0m\u001b[0m\n\u001b[1;32m     21\u001b[0m             \u001b[0mimage_path\u001b[0m\u001b[0;34m=\u001b[0m \u001b[0mos\u001b[0m\u001b[0;34m.\u001b[0m\u001b[0mpath\u001b[0m\u001b[0;34m.\u001b[0m\u001b[0mjoin\u001b[0m\u001b[0;34m(\u001b[0m\u001b[0mimg_folder\u001b[0m\u001b[0;34m,\u001b[0m \u001b[0mdir1\u001b[0m\u001b[0;34m,\u001b[0m  \u001b[0mfile\u001b[0m\u001b[0;34m)\u001b[0m\u001b[0;34m\u001b[0m\u001b[0;34m\u001b[0m\u001b[0m\n\u001b[0;32m---> 22\u001b[0;31m             \u001b[0mimage\u001b[0m\u001b[0;34m=\u001b[0m \u001b[0mcv2\u001b[0m\u001b[0;34m.\u001b[0m\u001b[0mimread\u001b[0m\u001b[0;34m(\u001b[0m \u001b[0mimage_path\u001b[0m\u001b[0;34m,\u001b[0m \u001b[0mcv2\u001b[0m\u001b[0;34m.\u001b[0m\u001b[0mCOLOR_BGR2RGB\u001b[0m\u001b[0;34m)\u001b[0m\u001b[0;34m\u001b[0m\u001b[0;34m\u001b[0m\u001b[0m\n\u001b[0m\u001b[1;32m     23\u001b[0m             \u001b[0mimage\u001b[0m\u001b[0;34m=\u001b[0m\u001b[0mcv2\u001b[0m\u001b[0;34m.\u001b[0m\u001b[0mresize\u001b[0m\u001b[0;34m(\u001b[0m\u001b[0mimage\u001b[0m\u001b[0;34m,\u001b[0m \u001b[0;34m(\u001b[0m\u001b[0mIMG_HEIGHT\u001b[0m\u001b[0;34m,\u001b[0m \u001b[0mIMG_WIDTH\u001b[0m\u001b[0;34m)\u001b[0m\u001b[0;34m,\u001b[0m\u001b[0minterpolation\u001b[0m \u001b[0;34m=\u001b[0m \u001b[0mcv2\u001b[0m\u001b[0;34m.\u001b[0m\u001b[0mINTER_AREA\u001b[0m\u001b[0;34m)\u001b[0m\u001b[0;34m\u001b[0m\u001b[0;34m\u001b[0m\u001b[0m\n\u001b[1;32m     24\u001b[0m             \u001b[0mimage\u001b[0m\u001b[0;34m=\u001b[0m\u001b[0mnp\u001b[0m\u001b[0;34m.\u001b[0m\u001b[0marray\u001b[0m\u001b[0;34m(\u001b[0m\u001b[0mimage\u001b[0m\u001b[0;34m)\u001b[0m\u001b[0;34m\u001b[0m\u001b[0;34m\u001b[0m\u001b[0m\n",
      "\u001b[0;31mKeyboardInterrupt\u001b[0m: "
     ]
    }
   ],
   "source": [
    "from random import shuffle\n",
    "def create_dataset(img_folder,IMG_HEIGHT=30, IMG_WIDTH=30):\n",
    "    tic()\n",
    "    i=1\n",
    "    img_data_array=[]\n",
    "    class_name=[]\n",
    "   \n",
    "    for dir1 in os.listdir(img_folder):\n",
    "        files = os.listdir(os.path.join(img_folder, dir1))\n",
    "        shuffle(files)\n",
    "        i=0\n",
    "        for file in files:\n",
    "          if file.endswith('.png'):\n",
    "            if (i%100 == 0):\n",
    "              print(i)\n",
    "              #toc()\n",
    "              #tic()\n",
    "            #if (i == 2000):\n",
    "              #break\n",
    "            i = i+1\n",
    "            image_path= os.path.join(img_folder, dir1,  file)\n",
    "            image= cv2.imread( image_path, cv2.COLOR_BGR2RGB)\n",
    "            image=cv2.resize(image, (IMG_HEIGHT, IMG_WIDTH),interpolation = cv2.INTER_AREA)\n",
    "            image=np.array(image)\n",
    "            image = image.astype('float32')\n",
    "            image /= 255 \n",
    "            img_data_array.append(image)\n",
    "            class_name.append(dir1)\n",
    "    return img_data_array, class_name\n",
    "\n",
    "# extract the image array and class name\n",
    "img_folder=r'C:\\Users\\Dalli\\Desktop\\jiaqi\\Test_data_labeled\\labeled'\n",
    "img_data, class_name =create_dataset(img_folder)\n",
    "toc()"
   ]
  },
  {
   "cell_type": "code",
   "execution_count": null,
   "metadata": {
    "colab": {
     "base_uri": "https://localhost:8080/"
    },
    "executionInfo": {
     "elapsed": 1025,
     "status": "ok",
     "timestamp": 1613338115806,
     "user": {
      "displayName": "Javid Akhavan",
      "photoUrl": "",
      "userId": "10308335064462853553"
     },
     "user_tz": 300
    },
    "id": "O3EbQ-bAKlKE",
    "outputId": "23fdd1d2-169d-4f5a-ef3f-dae05f804b1c"
   },
   "outputs": [
    {
     "name": "stdout",
     "output_type": "stream",
     "text": [
      "['Under' 'Under' 'Under' ... 'Empty' 'Empty' 'Empty']\n",
      "[3 3 3 ... 0 0 0]\n",
      "[[0. 0. 0. 1.]\n",
      " [0. 0. 0. 1.]\n",
      " [0. 0. 0. 1.]\n",
      " ...\n",
      " [1. 0. 0. 0.]\n",
      " [1. 0. 0. 0.]\n",
      " [1. 0. 0. 0.]]\n",
      "['Empty']\n"
     ]
    }
   ],
   "source": [
    "from numpy import array\n",
    "from numpy import argmax\n",
    "from sklearn.preprocessing import LabelEncoder\n",
    "from sklearn.preprocessing import OneHotEncoder\n",
    "# define example\n",
    "data = class_name\n",
    "values = array(data)\n",
    "print(values)\n",
    "# integer encode\n",
    "label_encoder = LabelEncoder()\n",
    "integer_encoded = label_encoder.fit_transform(values)\n",
    "print(integer_encoded)\n",
    "# binary encode\n",
    "onehot_encoder = OneHotEncoder(sparse=False)\n",
    "integer_encoded = integer_encoded.reshape(len(integer_encoded), 1)\n",
    "onehot_encoded = onehot_encoder.fit_transform(integer_encoded)\n",
    "print(onehot_encoded)\n",
    "# invert first example\n",
    "inverted = label_encoder.inverse_transform([argmax(onehot_encoded[1001, :])])\n",
    "print(inverted)"
   ]
  },
  {
   "cell_type": "code",
   "execution_count": null,
   "metadata": {
    "colab": {
     "base_uri": "https://localhost:8080/"
    },
    "executionInfo": {
     "elapsed": 409,
     "status": "ok",
     "timestamp": 1613338123521,
     "user": {
      "displayName": "Javid Akhavan",
      "photoUrl": "",
      "userId": "10308335064462853553"
     },
     "user_tz": 300
    },
    "id": "iPlOl9ctYZeh",
    "outputId": "7822222e-8c3c-452f-b02c-e380dbe69168"
   },
   "outputs": [
    {
     "name": "stdout",
     "output_type": "stream",
     "text": [
      "['Empty']\n"
     ]
    }
   ],
   "source": [
    "inverted = label_encoder.inverse_transform([argmax(onehot_encoded[999, :])])\n",
    "print(inverted)"
   ]
  },
  {
   "cell_type": "code",
   "execution_count": null,
   "metadata": {
    "id": "GbO3L2K-Rf5F"
   },
   "outputs": [],
   "source": [
    "class Same_net(tf.keras.Model):\n",
    "    def __init__(self,\n",
    "                     filters_1x1=16,\n",
    "                     filters_3x3_reduce=16,\n",
    "                     filters_3x3=16,\n",
    "                     filters_5x5_reduce=16,\n",
    "                     filters_5x5=16,\n",
    "                     filters_pool_proj=16,\n",
    "                     name='inception_3a',\n",
    "                     inp_shapes = (30, 30, 3)):\n",
    "      \n",
    "        super(Same_net, self).__init__()\n",
    "        self.conv1x1 = tf.keras.layers.Conv2D(filters_1x1, (1, 1), padding='same')\n",
    "        \n",
    "        self.conv3x3_reduce = tf.keras.layers.Conv2D(filters_3x3_reduce, (1, 1), padding='same')\n",
    "        self.conv3x3 = tf.keras.layers.Conv2D(filters_3x3, (3, 3), padding='same')\n",
    "        \n",
    "        self.conv5x5_reduce = tf.keras.layers.Conv2D(filters_5x5_reduce, (1, 1), padding='same')\n",
    "        self.conv5x5 = tf.keras.layers.Conv2D(filters_5x5, (5, 5), padding='same')\n",
    "        \n",
    "        self.convpool = tf.keras.layers.Conv2D(filters_1x1, (1, 1), padding='same')\n",
    "        \n",
    "        self.bn = tf.keras.layers.BatchNormalization()\n",
    "        self.act = tf.keras.layers.Activation('relu')\n",
    "        self.max_pool = tf.keras.layers.MaxPool2D((3, 3),strides=(1, 1), padding='same')\n",
    "        self.Concat = tf.keras.layers.Concatenate()\n",
    "\n",
    "    def call(self, inputs):\n",
    "        \n",
    "        b1 = self.conv1x1(inputs)\n",
    "        b1_act = self.act(b1)\n",
    "        \n",
    "        b2 = self.conv3x3_reduce(inputs)\n",
    "        b2_act = self.act(b2)\n",
    "        b2_2 = self.conv3x3(b2_act)\n",
    "        b2_2_act = self.act(b2_2)\n",
    "        \n",
    "        b3 = self.conv5x5_reduce(inputs)\n",
    "        b3_act = self.act(b3)\n",
    "        b3_2 = self.conv5x5(b3_act)\n",
    "        b3_2_act = self.act(b3_2)\n",
    "        \n",
    "        b4 = self.max_pool(inputs)\n",
    "        b4_2 = self.convpool(b4)\n",
    "        b4_2_act = self.act(b4_2)\n",
    "               \n",
    "        output = self.Concat([b1_act, b2_2_act, b3_2_act, b4_2_act])\n",
    "        return output"
   ]
  },
  {
   "cell_type": "code",
   "execution_count": null,
   "metadata": {
    "id": "3xpYkVHWLcuy"
   },
   "outputs": [],
   "source": [
    "class Encod_2(tf.keras.Model):\n",
    "    def __init__(self,filters_1x1=16):\n",
    "        super(Encod_2, self).__init__()\n",
    "        self.conv1x1 = tf.keras.layers.Conv2D(filters_1x1, (3, 3), padding='same')\n",
    "        self.conv1x1_2 = tf.keras.layers.Conv2D(filters_1x1, (3, 3), padding='same')\n",
    "        self.max_pool2 = tf.keras.layers.MaxPool2D((2,2),strides=(2, 2), padding='same')\n",
    "        self.act = tf.keras.layers.Activation('relu')\n",
    "    def call(self, inputs):\n",
    "        b1 = self.conv1x1(inputs)\n",
    "        b1_act = self.act(b1)  \n",
    "        b2 = self.conv1x1_2(b1_act)\n",
    "        b2_act = self.act(b2)  \n",
    "        b3 =   self.max_pool2(b2_act) \n",
    "        return b3  "
   ]
  },
  {
   "cell_type": "code",
   "execution_count": null,
   "metadata": {
    "id": "mSsokzAHFq9Z"
   },
   "outputs": [],
   "source": [
    "class Encod_comp(tf.keras.Model):\n",
    "    def __init__(self,filters_1x1=16):\n",
    "        super(Encod_comp, self).__init__()\n",
    "        self.b1 = Same_net()\n",
    "        self.b12 = Same_net()\n",
    "        self.b13 = Same_net()\n",
    "        \n",
    "        self.b2 = Encod_2()\n",
    "        self.b22 = Encod_2()\n",
    "        self.b23 = Encod_2()\n",
    "\n",
    "    def call(self, inputs):\n",
    "        l1 = self.b1(inputs)\n",
    "        l2 = self.b2(l1)\n",
    "        l3 = self.b12(l2)\n",
    "        l4 = self.b22(l3)\n",
    "        l5 = self.b13(l4)\n",
    "        #l6 = self.b23(l5)\n",
    "\n",
    "               \n",
    "        return l5"
   ]
  },
  {
   "cell_type": "code",
   "execution_count": null,
   "metadata": {
    "id": "OiigzT0fHtN9"
   },
   "outputs": [],
   "source": [
    "class Class_out(tf.keras.Model):\n",
    "    def __init__(self,filters_1x1=8):\n",
    "        super(Class_out, self).__init__()\n",
    "        self.Flat = tf.keras.layers.Flatten()\n",
    "        self.D1 = tf.keras.layers.Dense(150, activation='relu')\n",
    "        self.D2 = tf.keras.layers.Dense(40, activation='relu')\n",
    "        self.D3 = tf.keras.layers.Dense(12, activation='relu')\n",
    "        self.D4 = tf.keras.layers.Dense(4, activation='softmax')\n",
    "        #self.D5 = tf.keras.layers.Softmax()\n",
    "        #self.D0 = Encod_comp()\n",
    "\n",
    "    def call(self, inputs):\n",
    "      \n",
    "        #l0 = self.D0(inputs)\n",
    "        #l1 = self.Flat(l0)\n",
    "\n",
    "        l1 = self.Flat(inputs)\n",
    "        l2 = self.D1(l1)\n",
    "        l3 = self.D2(l2)\n",
    "        l4 = self.D3(l3)\n",
    "        l5 = self.D4(l4)\n",
    "        #l6 = self.D5(l5)\n",
    "               \n",
    "        return l5"
   ]
  },
  {
   "cell_type": "code",
   "execution_count": null,
   "metadata": {
    "id": "ZZfX3yUUtR6w"
   },
   "outputs": [],
   "source": [
    "class Decoder(tf.keras.Model):\n",
    "    def __init__(self,filters_1x1=16,same_pad = 0,up_sample=0):\n",
    "        super(Decoder, self).__init__()\n",
    "        if (same_pad == 1):\n",
    "          self.conv1x1 = tf.keras.layers.Conv2DTranspose(filters_1x1, (3, 3), padding='same')\n",
    "          self.conv1x1_2 = tf.keras.layers.Conv2DTranspose(filters_1x1, (3, 3), padding='same')\n",
    "        elif (same_pad == 0):\n",
    "          self.conv1x1 = tf.keras.layers.Conv2DTranspose(filters_1x1, (3, 3), padding='valid')\n",
    "          self.conv1x1_2 = tf.keras.layers.Conv2DTranspose(filters_1x1, (3, 3), padding='valid')\n",
    "        else:\n",
    "           self.conv1x1 = tf.keras.layers.Conv2D(filters_1x1, (3, 3))\n",
    "           self.conv1x1_2 = tf.keras.layers.Conv2DTranspose(filters_1x1, (3, 3), padding='same')\n",
    "        if up_sample :\n",
    "          self.UpSampling2D = tf.keras.layers.UpSampling2D((2, 2), interpolation='bilinear')\n",
    "        else:\n",
    "          self.UpSampling2D = tf.keras.layers.UpSampling2D((1, 1), interpolation='bilinear')\n",
    "        self.act = tf.keras.layers.Activation('sigmoid')\n",
    "\n",
    "        self.conv_reduce = tf.keras.layers.Conv2D(filters_1x1, (3, 3))\n",
    "\n",
    "    def call(self, inputs):\n",
    "        b1 = self.conv1x1(inputs)\n",
    "        b1_act = self.act(b1)  \n",
    "        b2 = self.conv1x1_2(b1_act)\n",
    "        b2_act = self.act(b2)  \n",
    "        b3 =   self.UpSampling2D(b2_act) \n",
    "        return b3  "
   ]
  },
  {
   "cell_type": "code",
   "execution_count": null,
   "metadata": {
    "id": "oGyDUMRC881e"
   },
   "outputs": [],
   "source": [
    "class Decod_comp(tf.keras.Model):\n",
    "    def __init__(self,filters_1x1=8):\n",
    "        super(Decod_comp, self).__init__()\n",
    "        self.b1 = Same_net()\n",
    "        self.b12 = Same_net()\n",
    "        self.b13 = Same_net()\n",
    "        self.b14 = Same_net()\n",
    "        \n",
    "        self.b2 = Decoder(same_pad = 1,up_sample=1)\n",
    "        self.b22 = Decoder(same_pad = 1,up_sample=1)\n",
    "        self.b23 = Decoder(same_pad = 1,up_sample=0)\n",
    "        self.b24 = Decoder(filters_1x1=3,same_pad = 2,up_sample=0)\n",
    "\n",
    "    def call(self, inputs):\n",
    "        l1 = self.b1(inputs)\n",
    "        l2 = self.b2(l1)\n",
    "        l3 = self.b12(l2)\n",
    "        l4 = self.b22(l3)\n",
    "        l5 = self.b13(l4)\n",
    "        l6 = self.b23(l5)\n",
    "        l7 = self.b14(l6)\n",
    "        l8 = self.b24(l7)\n",
    "\n",
    "               \n",
    "        return l8"
   ]
  },
  {
   "cell_type": "code",
   "execution_count": null,
   "metadata": {
    "id": "wVb1oBEI_mms"
   },
   "outputs": [],
   "source": [
    "class Model_comp(tf.keras.Model):\n",
    "    def __init__(self,filters_1x1=6):\n",
    "        super(Model_comp, self).__init__()\n",
    "        self.encoder = Encod_comp()\n",
    "        self.decoder = Decod_comp()\n",
    "        self.classifier = Class_out()\n",
    "    def call(self, inputs):\n",
    "        l1 = self.encoder(inputs)\n",
    "        l2 = self.decoder(l1)\n",
    "        l3 = self.classifier(l1)\n",
    "        return [l2,l3]"
   ]
  },
  {
   "cell_type": "code",
   "execution_count": null,
   "metadata": {
    "id": "ysR6AF-iQUcY"
   },
   "outputs": [],
   "source": [
    "img_data=np.array(img_data)"
   ]
  },
  {
   "cell_type": "code",
   "execution_count": null,
   "metadata": {
    "id": "Ve7QH6TBcpof"
   },
   "outputs": [],
   "source": [
    "model_1 =Model_comp()\n",
    "d = img_data[1:15]\n",
    "aa=model_1(d)\n",
    "##bb=model_1(aa[1:15])"
   ]
  },
  {
   "cell_type": "code",
   "execution_count": null,
   "metadata": {
    "id": "Bh6zeiOzTmMU"
   },
   "outputs": [],
   "source": [
    "steps_per_epoch = 400\n",
    "model_1 = Model_comp()\n",
    "model_1.compile(optimizer='adam', loss=['mean_squared_error' , 'categorical_crossentropy'], loss_weights=[1,1],metrics=['accuracy'])\n",
    "#model_1.compile(loss=\"mean_squared_error\", optimizer='RMSprop')\n",
    "history = model_1.fit(x=img_data,\n",
    "    y=[img_data, onehot_encoded],\n",
    "    batch_size=64,\n",
    "    epochs=20,\n",
    "    verbose=1,\n",
    "    callbacks=None,\n",
    "    validation_split=0.2,\n",
    "    shuffle=True)\n"
   ]
  },
  {
   "cell_type": "code",
   "execution_count": null,
   "metadata": {
    "colab": {
     "base_uri": "https://localhost:8080/"
    },
    "executionInfo": {
     "elapsed": 2421627,
     "status": "ok",
     "timestamp": 1612353189558,
     "user": {
      "displayName": "Javid Akhavan",
      "photoUrl": "",
      "userId": "10308335064462853553"
     },
     "user_tz": 300
    },
    "id": "jfWD5TIqiSGv",
    "outputId": "0117de7a-2045-4f54-e169-cb6133bf3736"
   },
   "outputs": [
    {
     "name": "stdout",
     "output_type": "stream",
     "text": [
      "WARNING:tensorflow:Skipping full serialization of Keras layer <tensorflow.python.keras.layers.normalization_v2.BatchNormalization object at 0x7f6db6079908>, because it is not built.\n",
      "WARNING:tensorflow:Skipping full serialization of Keras layer <tensorflow.python.keras.layers.normalization_v2.BatchNormalization object at 0x7f6db5f64978>, because it is not built.\n",
      "INFO:tensorflow:Assets written to: 2_3_2021_6am.tf/assets\n"
     ]
    }
   ],
   "source": [
    "model_1.save('2_3_2021_6am.tf')\n",
    "model_1.save_weights('2_3_2021_6am_weights.tf')\n"
   ]
  },
  {
   "cell_type": "code",
   "execution_count": null,
   "metadata": {
    "id": "dUsI-mrWlMUz"
   },
   "outputs": [],
   "source": [
    "np.save('img_data',img_data)\n",
    "np.save('onehot_encoded',onehot_encoded)"
   ]
  },
  {
   "cell_type": "code",
   "execution_count": null,
   "metadata": {
    "colab": {
     "background_save": true
    },
    "id": "PZr4u714wz6m"
   },
   "outputs": [],
   "source": [
    "history = model_1.fit(x=img_data,\n",
    "    y=[img_data, onehot_encoded],\n",
    "    batch_size=64,\n",
    "    epochs=200,\n",
    "    verbose=1,\n",
    "    callbacks=None,\n",
    "    validation_split=0.2,\n",
    "    shuffle=True)"
   ]
  },
  {
   "cell_type": "code",
   "execution_count": null,
   "metadata": {
    "colab": {
     "background_save": true
    },
    "id": "vV1fM7i_w1yt"
   },
   "outputs": [],
   "source": []
  },
  {
   "cell_type": "code",
   "execution_count": null,
   "metadata": {
    "colab": {
     "background_save": true
    },
    "id": "Hs3FHfObxGEL",
    "outputId": "c9e0ad65-f0fb-4b28-a484-a67867b58870"
   },
   "outputs": [
    {
     "name": "stdout",
     "output_type": "stream",
     "text": [
      "WARNING:tensorflow:Skipping full serialization of Keras layer <tensorflow.python.keras.layers.normalization_v2.BatchNormalization object at 0x7f6db6079908>, because it is not built.\n",
      "WARNING:tensorflow:Skipping full serialization of Keras layer <tensorflow.python.keras.layers.normalization_v2.BatchNormalization object at 0x7f6db5f64978>, because it is not built.\n",
      "INFO:tensorflow:Assets written to: 2_3_2021_7am.tf/assets\n"
     ]
    }
   ],
   "source": [
    "model_1.save('2_3_2021_7am.tf')\n",
    "model_1.save_weights('2_3_2021_7am_weights.tf')\n"
   ]
  },
  {
   "cell_type": "code",
   "execution_count": null,
   "metadata": {
    "id": "OBEIr7GZxGEM"
   },
   "outputs": [],
   "source": [
    "np.save('img_datap',img_data)\n",
    "np.save('onehot_encodedp',onehot_encoded)"
   ]
  }
 ],
 "metadata": {
  "accelerator": "GPU",
  "colab": {
   "collapsed_sections": [],
   "machine_shape": "hm",
   "name": "Moving_to_disk.ipynb",
   "provenance": [
    {
     "file_id": "1cgV9KNA566BFci-sQLaYXStXO3gZpi9T",
     "timestamp": 1613353654551
    }
   ]
  },
  "kernelspec": {
   "display_name": "Python 3",
   "language": "python",
   "name": "python3"
  },
  "language_info": {
   "codemirror_mode": {
    "name": "ipython",
    "version": 3
   },
   "file_extension": ".py",
   "mimetype": "text/x-python",
   "name": "python",
   "nbconvert_exporter": "python",
   "pygments_lexer": "ipython3",
   "version": "3.8.1"
  }
 },
 "nbformat": 4,
 "nbformat_minor": 1
}
